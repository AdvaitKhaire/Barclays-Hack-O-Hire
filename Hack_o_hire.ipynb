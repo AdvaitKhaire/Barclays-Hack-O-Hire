{
  "nbformat": 4,
  "nbformat_minor": 0,
  "metadata": {
    "colab": {
      "provenance": [],
      "toc_visible": true,
      "mount_file_id": "1XJfo1-Kkwfe-entvr_2sfZnh8ag1fgqM",
      "authorship_tag": "ABX9TyOmJ5MXkYBuaRi6bhlsRi2K",
      "include_colab_link": true
    },
    "kernelspec": {
      "name": "python3",
      "display_name": "Python 3"
    },
    "language_info": {
      "name": "python"
    }
  },
  "cells": [
    {
      "cell_type": "markdown",
      "metadata": {
        "id": "view-in-github",
        "colab_type": "text"
      },
      "source": [
        "<a href=\"https://colab.research.google.com/github/lucas150/Barclays-Hack-O-Hire/blob/main/Hack_o_hire.ipynb\" target=\"_parent\"><img src=\"https://colab.research.google.com/assets/colab-badge.svg\" alt=\"Open In Colab\"/></a>"
      ]
    },
    {
      "cell_type": "code",
      "execution_count": null,
      "metadata": {
        "id": "WRNpi48afNVF"
      },
      "outputs": [],
      "source": [
        "#reading a CSV File\n",
        "\n",
        "import pandas as pd\n",
        "df=pd.read_csv('cyberbarclays.csv')\n",
        "df"
      ]
    },
    {
      "cell_type": "code",
      "source": [
        "#filling empty space with zero\n",
        "df.fillna(0)"
      ],
      "metadata": {
        "id": "-1tqc0Lffb7c"
      },
      "execution_count": null,
      "outputs": []
    },
    {
      "cell_type": "code",
      "source": [
        "#extracting date and time\n",
        "import pandas as pd\n",
        "\n",
        "df['Timestamp'] = pd.to_datetime(df['Timestamp'], format='%d-%m-%Y %H:%M')\n",
        "\n",
        "# Extract date, month, year, hour, and minute into separate columns\n",
        "df['Date'] = df['Timestamp'].dt.day\n",
        "df['Month'] = df['Timestamp'].dt.month\n",
        "df['Year'] = df['Timestamp'].dt.year\n",
        "df['Hour'] = df['Timestamp'].dt.hour\n",
        "df['Minute'] = df['Timestamp'].dt.minute\n",
        "\n",
        "df.drop(columns=['Timestamp'], inplace=True)\n",
        "\n",
        "print(df.head())"
      ],
      "metadata": {
        "id": "vNys9ehiffYh"
      },
      "execution_count": null,
      "outputs": []
    },
    {
      "cell_type": "code",
      "source": [
        "#extracting city and state\n",
        "df[['City', 'State']] = df['location'].str.split(', ', expand=True)\n",
        "\n",
        "df.drop(columns=['location'], inplace=True)\n",
        "\n",
        "print(df.head())"
      ],
      "metadata": {
        "id": "O3dQPoRcfhw5"
      },
      "execution_count": null,
      "outputs": []
    },
    {
      "cell_type": "code",
      "source": [
        "#droping columns\n",
        "df.drop(columns=['State'], inplace=True)\n",
        "df.drop(columns=['Source-IP'], inplace=True)\n",
        "df.drop(columns=['Destination-IP'], inplace=True)\n",
        "print(df.head())"
      ],
      "metadata": {
        "id": "3vnmE-dCfkkZ"
      },
      "execution_count": null,
      "outputs": []
    },
    {
      "cell_type": "code",
      "source": [
        "#reading updated file\n",
        "df.to_csv('updated_cyber_data.csv', index=False)"
      ],
      "metadata": {
        "id": "q1AuiMj3fncC"
      },
      "execution_count": null,
      "outputs": []
    },
    {
      "cell_type": "code",
      "source": [
        "# Linear Regression Model 31% accuracy\n",
        "import pandas as pd\n",
        "from sklearn.model_selection import train_test_split\n",
        "from sklearn.preprocessing import OneHotEncoder, LabelEncoder\n",
        "from sklearn.linear_model import SGDRegressor\n",
        "from sklearn.metrics import mean_squared_error, r2_score, accuracy_score, precision_score\n",
        "\n",
        "# Read the data\n",
        "df = pd.read_csv('updated_cyber_data.csv')\n",
        "\n",
        "# Encode categorical variables using one-hot encoding\n",
        "encoder = OneHotEncoder(drop='first', sparse=False)\n",
        "encoded_features = encoder.fit_transform(df[['Protocol', 'Anomaly', 'City']])\n",
        "encoded_df = pd.DataFrame(encoded_features, columns=encoder.get_feature_names_out(['Protocol', 'Anomaly', 'City']))\n",
        "df_encoded = pd.concat([df[['Date', 'Month', 'Year', 'Hour', 'Minute']], encoded_df], axis=1)\n",
        "\n",
        "# Select features and target variables\n",
        "X = df_encoded\n",
        "y_severity = df['Severity']\n",
        "y_attack = df['Attack']\n",
        "y_anomaly = df['Anomaly']\n",
        "\n",
        "# Encode target variables\n",
        "label_encoder = LabelEncoder()\n",
        "y_severity_encoded = label_encoder.fit_transform(y_severity)\n",
        "y_attack_encoded = label_encoder.fit_transform(y_attack)\n",
        "y_anomaly_encoded = label_encoder.fit_transform(y_anomaly)\n",
        "\n",
        "# Split the data into training and testing sets\n",
        "X_train, X_test, y_severity_train, y_severity_test = train_test_split(X, y_severity_encoded, test_size=0.2, random_state=42)\n",
        "_, _, y_attack_train, y_attack_test = train_test_split(X, y_attack_encoded, test_size=0.2, random_state=42)\n",
        "_, _, y_anomaly_train, y_anomaly_test = train_test_split(X, y_anomaly_encoded, test_size=0.2, random_state=42)\n",
        "\n",
        "# Initialize the linear regression models with SGDRegressor for mini-batch training\n",
        "severity_model = SGDRegressor()\n",
        "attack_model = SGDRegressor()\n",
        "anomaly_model = SGDRegressor()\n",
        "\n",
        "# Define batch size\n",
        "batch_size = 10000\n",
        "\n",
        "# Train the linear regression models using mini-batch training\n",
        "for i in range(0, len(X_train), batch_size):\n",
        "    X_batch = X_train[i:i+batch_size]\n",
        "    y_severity_batch = y_severity_train[i:i+batch_size]\n",
        "    y_attack_batch = y_attack_train[i:i+batch_size]\n",
        "    y_anomaly_batch = y_anomaly_train[i:i+batch_size]\n",
        "\n",
        "    severity_model.partial_fit(X_batch, y_severity_batch)\n",
        "    attack_model.partial_fit(X_batch, y_attack_batch)\n",
        "    anomaly_model.partial_fit(X_batch, y_anomaly_batch)\n",
        "\n",
        "# Make predictions\n",
        "severity_predictions = severity_model.predict(X_test)\n",
        "attack_predictions = attack_model.predict(X_test)\n",
        "anomaly_predictions = anomaly_model.predict(X_test)\n",
        "\n",
        "# Evaluate the models\n",
        "severity_rmse = mean_squared_error(y_severity_test, severity_predictions, squared=False)\n",
        "severity_r2 = r2_score(y_severity_test, severity_predictions)\n",
        "\n",
        "attack_rmse = mean_squared_error(y_attack_test, attack_predictions, squared=False)\n",
        "attack_r2 = r2_score(y_attack_test, attack_predictions)\n",
        "\n",
        "anomaly_rmse = mean_squared_error(y_anomaly_test, anomaly_predictions, squared=False)\n",
        "anomaly_r2 = r2_score(y_anomaly_test, anomaly_predictions)\n",
        "\n",
        "print(\"Severity Model - RMSE:\", severity_rmse, \"R^2:\", severity_r2)\n",
        "print(\"Attack Model - RMSE:\", attack_rmse, \"R^2:\", attack_r2)\n",
        "print(\"Anomaly Model - RMSE:\", anomaly_rmse, \"R^2:\", anomaly_r2)\n",
        "\n",
        "# Calculate accuracy and precision for each model\n",
        "threshold = 0.5\n",
        "\n",
        "severity_class_predictions = (severity_predictions >= threshold).astype(int)\n",
        "attack_class_predictions = (attack_predictions >= threshold).astype(int)\n",
        "anomaly_class_predictions = (anomaly_predictions >= threshold).astype(int)\n",
        "\n",
        "severity_accuracy = accuracy_score(y_severity_test, severity_class_predictions)\n",
        "severity_precision = precision_score(y_severity_test, severity_class_predictions, average='weighted')\n",
        "\n",
        "attack_accuracy = accuracy_score(y_attack_test, attack_class_predictions)\n",
        "attack_precision = precision_score(y_attack_test, attack_class_predictions, average='weighted')\n",
        "\n",
        "anomaly_accuracy = accuracy_score(y_anomaly_test, anomaly_class_predictions)\n",
        "anomaly_precision = precision_score(y_anomaly_test, anomaly_class_predictions, average='weighted')\n",
        "\n",
        "print(\"Severity Model - Accuracy:\", severity_accuracy, \"Precision:\", severity_precision)\n",
        "print(\"Attack Model - Accuracy:\", attack_accuracy, \"Precision:\", attack_precision)\n",
        "print(\"Anomaly Model - Accuracy:\", anomaly_accuracy, \"Precision:\", anomaly_precision)\n"
      ],
      "metadata": {
        "colab": {
          "base_uri": "https://localhost:8080/"
        },
        "id": "OFE3lFdKigJa",
        "outputId": "390b55f7-6e9d-419d-cbfe-ff2f5331fc02"
      },
      "execution_count": null,
      "outputs": [
        {
          "output_type": "stream",
          "name": "stderr",
          "text": [
            "/usr/local/lib/python3.10/dist-packages/sklearn/preprocessing/_encoders.py:868: FutureWarning: `sparse` was renamed to `sparse_output` in version 1.2 and will be removed in 1.4. `sparse_output` is ignored unless you leave `sparse` to its default value.\n",
            "  warnings.warn(\n"
          ]
        },
        {
          "output_type": "stream",
          "name": "stdout",
          "text": [
            "Severity Model - RMSE: 1770529819227624.8 R^2: -4.709650744461585e+30\n",
            "Attack Model - RMSE: 2106968953691211.5 R^2: -6.72752161027069e+30\n",
            "Anomaly Model - RMSE: 1154706560171712.2 R^2: -1.6534397315150553e+23\n",
            "Severity Model - Accuracy: 0.334125 Precision: 0.111639515625\n",
            "Attack Model - Accuracy: 0.340125 Precision: 0.11568501562500001\n",
            "Anomaly Model - Accuracy: 0.000125 Precision: 1.5625e-08\n"
          ]
        },
        {
          "output_type": "stream",
          "name": "stderr",
          "text": [
            "/usr/local/lib/python3.10/dist-packages/sklearn/metrics/_classification.py:1344: UndefinedMetricWarning: Precision is ill-defined and being set to 0.0 in labels with no predicted samples. Use `zero_division` parameter to control this behavior.\n",
            "  _warn_prf(average, modifier, msg_start, len(result))\n",
            "/usr/local/lib/python3.10/dist-packages/sklearn/metrics/_classification.py:1344: UndefinedMetricWarning: Precision is ill-defined and being set to 0.0 in labels with no predicted samples. Use `zero_division` parameter to control this behavior.\n",
            "  _warn_prf(average, modifier, msg_start, len(result))\n",
            "/usr/local/lib/python3.10/dist-packages/sklearn/metrics/_classification.py:1344: UndefinedMetricWarning: Precision is ill-defined and being set to 0.0 in labels with no predicted samples. Use `zero_division` parameter to control this behavior.\n",
            "  _warn_prf(average, modifier, msg_start, len(result))\n"
          ]
        }
      ]
    },
    {
      "cell_type": "code",
      "source": [
        "# SVR Model\n",
        "import pandas as pd\n",
        "from sklearn.model_selection import train_test_split\n",
        "from sklearn.preprocessing import OneHotEncoder, LabelEncoder\n",
        "from sklearn.svm import SVR\n",
        "from sklearn.metrics import mean_squared_error, r2_score\n",
        "\n",
        "# Read the data\n",
        "df = pd.read_csv('updated_cyber_data.csv')\n",
        "\n",
        "# Encode categorical variables using one-hot encoding\n",
        "encoder = OneHotEncoder(drop='first', sparse=False)\n",
        "encoded_features = encoder.fit_transform(df[['Protocol', 'Anomaly', 'City']])\n",
        "encoded_df = pd.DataFrame(encoded_features, columns=encoder.get_feature_names_out(['Protocol', 'Anomaly', 'City']))\n",
        "df_encoded = pd.concat([df[['Date', 'Month', 'Year', 'Hour', 'Minute']], encoded_df], axis=1)\n",
        "\n",
        "# Select features and target variables\n",
        "X = df_encoded\n",
        "y_severity = df['Severity']\n",
        "y_attack = df['Attack']\n",
        "y_anomaly = df['Anomaly']\n",
        "\n",
        "# Initialize LabelEncoder\n",
        "label_encoder = LabelEncoder()\n",
        "\n",
        "# Encode the target variables\n",
        "y_severity_encoded = label_encoder.fit_transform(y_severity)\n",
        "y_attack_encoded = label_encoder.fit_transform(y_attack)\n",
        "y_anomaly_encoded = label_encoder.fit_transform(y_anomaly)\n",
        "\n",
        "# Split the data into training and testing sets for each target\n",
        "X_train, X_test, y_severity_train_encoded, y_severity_test = train_test_split(X, y_severity_encoded, test_size=0.2, random_state=42)\n",
        "_, _, y_attack_train_encoded, y_attack_test = train_test_split(X, y_attack_encoded, test_size=0.2, random_state=42)\n",
        "_, _, y_anomaly_train_encoded, y_anomaly_test = train_test_split(X, y_anomaly_encoded, test_size=0.2, random_state=42)\n",
        "\n",
        "# Initialize the SVR models with reduced parameters\n",
        "severity_model = SVR(kernel='linear')\n",
        "attack_model = SVR(kernel='linear')\n",
        "anomaly_model = SVR(kernel='linear')\n",
        "\n",
        "# Determine batch size\n",
        "batch_size = 10000\n",
        "\n",
        "# Train the SVR models in batches\n",
        "for i in range(0, len(X_train), batch_size):\n",
        "    X_batch = X_train[i:i+batch_size]\n",
        "    y_severity_batch = y_severity_train_encoded[i:i+batch_size]\n",
        "    y_attack_batch = y_attack_train_encoded[i:i+batch_size]\n",
        "    y_anomaly_batch = y_anomaly_train_encoded[i:i+batch_size]\n",
        "\n",
        "    severity_model.fit(X_batch, y_severity_batch)\n",
        "    attack_model.fit(X_batch, y_attack_batch)\n",
        "    anomaly_model.fit(X_batch, y_anomaly_batch)\n",
        "\n",
        "# Make predictions\n",
        "severity_predictions = severity_model.predict(X_test)\n",
        "attack_predictions = attack_model.predict(X_test)\n",
        "anomaly_predictions = anomaly_model.predict(X_test)\n",
        "\n",
        "# Evaluate the models\n",
        "severity_rmse = mean_squared_error(y_severity_test, severity_predictions, squared=False)\n",
        "severity_r2 = r2_score(y_severity_test, severity_predictions)\n",
        "\n",
        "attack_rmse = mean_squared_error(y_attack_test, attack_predictions, squared=False)\n",
        "attack_r2 = r2_score(y_attack_test, attack_predictions)\n",
        "\n",
        "anomaly_rmse = mean_squared_error(y_anomaly_test, anomaly_predictions, squared=False)\n",
        "anomaly_r2 = r2_score(y_anomaly_test, anomaly_predictions)\n",
        "\n",
        "print(\"Severity Model - RMSE:\", severity_rmse, \"R^2:\", severity_r2)\n",
        "print(\"Attack Model - RMSE:\", attack_rmse, \"R^2:\", attack_r2)\n",
        "print(\"Anomaly Model - RMSE:\", anomaly_rmse, \"R^2:\", anomaly_r2)"
      ],
      "metadata": {
        "id": "nv808br6gMQT"
      },
      "execution_count": null,
      "outputs": []
    },
    {
      "cell_type": "code",
      "source": [
        "# Random forest Model 31% accuracy\n",
        "import pandas as pd\n",
        "from sklearn.model_selection import train_test_split\n",
        "from sklearn.ensemble import RandomForestClassifier\n",
        "from sklearn.metrics import classification_report\n",
        "\n",
        "# Load your dataset\n",
        "df = pd.read_csv('updated_cyber_data.csv')\n",
        "\n",
        "# Reduce the dataset size if necessary\n",
        "sample_size = 10000\n",
        "df_sample = df.sample(n=sample_size, random_state=42)\n",
        "\n",
        "# Extract features and target variable\n",
        "X = df_sample[['Protocol', 'Anomaly', 'Attack', 'Date', 'Month', 'Year', 'Hour', 'Minute', 'City']]\n",
        "y = df_sample['Severity']  # Use 'Severity' as the target variable\n",
        "\n",
        "# Convert categorical variables to numerical using one-hot encoding\n",
        "X_encoded = pd.get_dummies(X)\n",
        "\n",
        "# Split the data into train and test sets\n",
        "X_train, X_test, y_train, y_test = train_test_split(X_encoded, y, test_size=0.2, random_state=42)\n",
        "\n",
        "# Initialize and train the Random Forest model\n",
        "rf_model = RandomForestClassifier(n_estimators=100, random_state=42)\n",
        "rf_model.fit(X_train, y_train)\n",
        "\n",
        "# Make predictions\n",
        "y_pred = rf_model.predict(X_test)\n",
        "\n",
        "# Evaluate the model\n",
        "print(classification_report(y_test, y_pred))\n",
        "\n",
        "# Extract feature importances\n",
        "feature_importances = rf_model.feature_importances_\n",
        "\n",
        "# Print feature importances\n",
        "for feature, importance in zip(X_encoded.columns, feature_importances):\n",
        "    print(f\"{feature}: {importance}\")"
      ],
      "metadata": {
        "id": "GyglqnCIvfID"
      },
      "execution_count": null,
      "outputs": []
    },
    {
      "cell_type": "code",
      "source": [
        "#updating Dataset\n",
        "import pandas as pd\n",
        "from datetime import datetime\n",
        "\n",
        "# Load your dataset\n",
        "df = pd.read_csv('updated_cyber_data.csv')\n",
        "\n",
        "# Convert Date column to datetime format\n",
        "# df['Date'] = pd.to_datetime(df['Date'])\n",
        "\n",
        "# Combine Hour and Minute to create a new feature representing the exact time of the cyber attack\n",
        "df['Attack_Time'] = df['Hour'].astype(str).str.zfill(2) + ':' + df['Minute'].astype(str).str.zfill(2)\n",
        "\n",
        "# Create a feature that represents the day of the week based on the date\n",
        "df['Day_of_Week'] = df['Date'].dt.day_name()\n",
        "\n",
        "# Calculate the duration between the attack and the previous attack as a new feature\n",
        "df['Previous_Attack_Date'] = df['Date'].shift(1)\n",
        "df['Attack_Duration'] = (df['Date'] - df['Previous_Attack_Date']).dt.days\n",
        "\n",
        "# Drop unnecessary columns if needed\n",
        "df = df.drop(['Hour', 'Minute', 'Previous_Attack_Date'], axis=1)\n",
        "\n",
        "# Save the modified dataset to a new CSV file\n",
        "df.to_csv('modified_cyber_data.csv', index=False)"
      ],
      "metadata": {
        "id": "EEOpnRuYwNVL"
      },
      "execution_count": null,
      "outputs": []
    },
    {
      "cell_type": "code",
      "source": [
        "#updating Dataset\n",
        "import pandas as pd\n",
        "\n",
        "# Load your dataset\n",
        "df = pd.read_csv('updated_cyber_data.csv')\n",
        "\n",
        "# Merge Date, Month, and Year into a single column\n",
        "df['Date_Month_Year'] = df['Date'].astype(str) + '-' + df['Month'].astype(str) + '-' + df['Year'].astype(str)\n",
        "\n",
        "# Drop Date, Month, and Year columns\n",
        "df = df.drop(['Date', 'Month', 'Year'], axis=1)\n",
        "\n",
        "# Save the modified dataset to a new CSV file\n",
        "df.to_csv('modified_date_month_year.csv', index=False)"
      ],
      "metadata": {
        "id": "5ngqoLgHwORh"
      },
      "execution_count": null,
      "outputs": []
    },
    {
      "cell_type": "code",
      "source": [
        "#41% accuracy\n",
        "import pandas as pd\n",
        "from sklearn.model_selection import train_test_split\n",
        "from sklearn.ensemble import RandomForestClassifier\n",
        "from sklearn.metrics import classification_report\n",
        "\n",
        "# Load your dataset\n",
        "df = pd.read_csv('modified_with_frequency.csv')\n",
        "\n",
        "# Reduce the dataset size if necessary\n",
        "sample_size = 10000\n",
        "df_sample = df.sample(n=sample_size, random_state=42)\n",
        "\n",
        "# Extract features and target variable\n",
        "X = df_sample[['Protocol', 'Anomaly', 'Attack', 'Hour', 'Minute', 'City', 'Date_Month_Year', 'Day_of_Week', 'Frequency']]\n",
        "y = df_sample['Severity']  # Use 'Severity' as the target variable\n",
        "\n",
        "# Convert categorical variables to numerical using one-hot encoding\n",
        "X_encoded = pd.get_dummies(X)\n",
        "\n",
        "# Split the data into train and test sets\n",
        "X_train, X_test, y_train, y_test = train_test_split(X_encoded, y, test_size=0.2, random_state=42)\n",
        "\n",
        "# Initialize and train the Random Forest model\n",
        "rf_model = RandomForestClassifier(n_estimators=100, random_state=42)\n",
        "rf_model.fit(X_train, y_train)\n",
        "\n",
        "# Make predictions\n",
        "y_pred = rf_model.predict(X_test)\n",
        "\n",
        "# Evaluate the model\n",
        "print(classification_report(y_test, y_pred))\n",
        "\n",
        "# Extract feature importances\n",
        "feature_importances = rf_model.feature_importances_\n",
        "\n",
        "# Print feature importances\n",
        "for feature, importance in zip(X_encoded.columns, feature_importances):\n",
        "    print(f\"{feature}: {importance}\")"
      ],
      "metadata": {
        "id": "OPX9KiKDwUJR"
      },
      "execution_count": null,
      "outputs": []
    },
    {
      "cell_type": "code",
      "source": [
        "#61% Accuracy\n",
        "from sklearn.model_selection import train_test_split\n",
        "from sklearn.preprocessing import OneHotEncoder\n",
        "from sklearn.ensemble import RandomForestClassifier\n",
        "from sklearn.metrics import accuracy_score, precision_score, confusion_matrix\n",
        "\n",
        "# Load your dataset with the specified encoding\n",
        "df = pd.read_csv('modified_with_frequency.csv', encoding='latin1')\n",
        "\n",
        "# Reduce the dataset size if necessary\n",
        "sample_size = 20000\n",
        "df_sample = df.sample(n=sample_size, random_state=42)\n",
        "\n",
        "# Extract features and target variable\n",
        "X = df_sample[['Protocol', 'Anomaly', 'Attack', 'Hour', 'Minute', 'City', 'Date_Month_Year', 'Day_of_Week', 'Frequency']]\n",
        "y = df_sample['Severity']  # Use 'Severity' as the target variable\n",
        "\n",
        "# Perform one-hot encoding for categorical variables\n",
        "encoder = OneHotEncoder(sparse=False, handle_unknown='ignore')\n",
        "X_encoded = encoder.fit_transform(X)\n",
        "\n",
        "# Split the data into train and test sets\n",
        "X_train, X_test, y_train, y_test = train_test_split(X_encoded, y, test_size=0.2, random_state=42)\n",
        "\n",
        "# Initialize and train the Random Forest model\n",
        "rf_model = RandomForestClassifier(n_estimators=100, random_state=42)\n",
        "rf_model.fit(X_train, y_train)\n",
        "\n",
        "# Make predictions\n",
        "y_pred = rf_model.predict(X_test)\n",
        "\n",
        "# Calculate and print accuracy\n",
        "accuracy = accuracy_score(y_test, y_pred)\n",
        "print(\"Accuracy:\", accuracy)\n",
        "\n",
        "# Calculate and print precision\n",
        "precision = precision_score(y_test, y_pred, average='weighted')  # Use weighted average for multi-class classification\n",
        "print(\"Precision:\", precision)\n",
        "\n",
        "# Calculate and print confusion matrix\n",
        "cm = confusion_matrix(y_test, y_pred)\n",
        "print(\"Confusion Matrix:\")\n",
        "print(cm)"
      ],
      "metadata": {
        "id": "vKEPsn9Jwat6"
      },
      "execution_count": null,
      "outputs": []
    }
  ]
}